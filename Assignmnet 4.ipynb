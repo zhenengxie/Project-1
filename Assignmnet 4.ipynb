{
 "cells": [
  {
   "cell_type": "code",
   "execution_count": 67,
   "metadata": {},
   "outputs": [
    {
     "name": "stdout",
     "output_type": "stream",
     "text": [
      "-0.023122030139371072\n",
      "0.00046181859130141665\n"
     ]
    }
   ],
   "source": [
    "import numpy as np\n",
    "\n",
    "def solve(n, m, gaussians):\n",
    "    # n is time steps\n",
    "    # m is space steps\n",
    "    h = 1 / m\n",
    "    k = 1 / n\n",
    "    r = m**2 / n\n",
    "    if r > 0.5:\n",
    "        print(\"r too large\", r)\n",
    "    \n",
    "    u1 = np.zeros(m + 1)\n",
    "    u2 = np.zeros(m + 1)\n",
    "    \n",
    "    for i in range(1, n + 1):\n",
    "        for j in range(1, m):\n",
    "            u2[j] = r * u1[j-1] + (1 - 2 * r) * u1[j] + r * u1[j + 1] + gaussians[i, j] * np.sqrt(k / h)\n",
    "            u1 = u2\n",
    "            \n",
    "    return h * np.sum(u2)\n",
    "\n",
    "n = 2000\n",
    "m = int(np.sqrt(0.5 * n) / 2)\n",
    "N = 100\n",
    "\n",
    "sum1 = 0\n",
    "sum2 = 0\n",
    "for _ in range(N):\n",
    "    val = solve(n, m, np.random.randn(n + 1, m + 1))\n",
    "    sum1 += val\n",
    "    sum2 += val**2\n",
    "\n",
    "print(sum1/N)\n",
    "print((sum2/N - (sum1/N)**2) / N)"
   ]
  }
 ],
 "metadata": {
  "kernelspec": {
   "display_name": "Python 3",
   "language": "python",
   "name": "python3"
  },
  "language_info": {
   "codemirror_mode": {
    "name": "ipython",
    "version": 3
   },
   "file_extension": ".py",
   "mimetype": "text/x-python",
   "name": "python",
   "nbconvert_exporter": "python",
   "pygments_lexer": "ipython3",
   "version": "3.7.3"
  }
 },
 "nbformat": 4,
 "nbformat_minor": 2
}
