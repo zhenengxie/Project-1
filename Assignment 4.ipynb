{
 "cells": [
  {
   "cell_type": "code",
   "execution_count": 1,
   "metadata": {},
   "outputs": [],
   "source": [
    "import numpy as np\n",
    "import matplotlib.pyplot as plt\n",
    "\n",
    "def solve(n, m):\n",
    "    k = 1 / n # time\n",
    "    h = 1 / m # space\n",
    "    \n",
    "    r = m**2 / n\n",
    "    if r > 0.5:\n",
    "        raise Exception(\"r is too large for finite differences to converge\")\n",
    "    \n",
    "    x = np.linspace(0, 1, m + 1)\n",
    "    u_old = np.sin(np.pi * x)\n",
    "    u_new = np.zeros(m + 1)\n",
    "    \n",
    "    for _ in range(n):\n",
    "        for j in range(1, m):\n",
    "            u_new[j] = u_old[j] + r * (u_old[j-1] - 2 * u_old[j] + u_old[j+1])\n",
    "            \n",
    "        u_old = u_new\n",
    "        u_new = np.zeros(m + 1)\n",
    "            \n",
    "    return h * np.sum(u_old**2)"
   ]
  },
  {
   "cell_type": "code",
   "execution_count": null,
   "metadata": {},
   "outputs": [],
   "source": []
  }
 ],
 "metadata": {
  "kernelspec": {
   "display_name": "Python 3",
   "language": "python",
   "name": "python3"
  },
  "language_info": {
   "codemirror_mode": {
    "name": "ipython",
    "version": 3
   },
   "file_extension": ".py",
   "mimetype": "text/x-python",
   "name": "python",
   "nbconvert_exporter": "python",
   "pygments_lexer": "ipython3",
   "version": "3.7.4"
  }
 },
 "nbformat": 4,
 "nbformat_minor": 2
}
